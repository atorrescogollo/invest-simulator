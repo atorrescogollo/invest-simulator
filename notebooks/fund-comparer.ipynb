{
 "cells": [
  {
   "cell_type": "code",
   "execution_count": 1,
   "metadata": {},
   "outputs": [],
   "source": [
    "import pandas as pd\n",
    "import matplotlib.pyplot as plt\n",
    "import numpy as np\n",
    "import investpy\n",
    "import datetime\n",
    "import plotly.express as px\n",
    "from plotly.subplots import make_subplots\n",
    "\n",
    "\n",
    "import pandas as pd\n",
    "import yfinance as yf\n",
    "from yahoofinancials import YahooFinancials\n",
    "\n",
    "# Enable matplot widgets\n",
    "%matplotlib widget"
   ]
  },
  {
   "cell_type": "code",
   "execution_count": 2,
   "metadata": {},
   "outputs": [
    {
     "name": "stdout",
     "output_type": "stream",
     "text": [
      "              Open     High     Low   Close  Volume Currency\n",
      "Date                                                        \n",
      "2008-11-01  968.67  1007.51  741.02  896.24       0      USD\n",
      "2008-12-01  888.61   918.85  815.69  903.25       0      USD\n",
      "2009-01-01  902.99   943.85  804.30  825.88       0      USD\n",
      "              Open     High     Low   Close  Volume Currency\n",
      "Date                                                        \n",
      "2008-11-01  959.17  1013.58  759.00  892.93       0      USD\n",
      "2008-12-01  893.04   936.89  815.89  920.23       0      USD\n",
      "2009-01-01  920.23   958.94  808.52  838.83       0      USD\n"
     ]
    },
    {
     "data": {
      "image/svg+xml": "<svg class=\"main-svg\" xmlns=\"http://www.w3.org/2000/svg\" xmlns:xlink=\"http://www.w3.org/1999/xlink\" width=\"700\" height=\"500\" style=\"\" viewBox=\"0 0 700 500\"><rect x=\"0\" y=\"0\" width=\"700\" height=\"500\" style=\"fill: rgb(255, 255, 255); fill-opacity: 1;\"/><defs id=\"defs-3a5b06\"><g class=\"clips\"><clipPath id=\"clip3a5b06xyplot\" class=\"plotclip\"><rect width=\"455\" height=\"360\"/></clipPath><clipPath class=\"axesclip\" id=\"clip3a5b06x\"><rect x=\"80\" y=\"0\" width=\"455\" height=\"500\"/></clipPath><clipPath class=\"axesclip\" id=\"clip3a5b06y\"><rect x=\"0\" y=\"60\" width=\"700\" height=\"360\"/></clipPath><clipPath class=\"axesclip\" id=\"clip3a5b06xy\"><rect x=\"80\" y=\"60\" width=\"455\" height=\"360\"/></clipPath></g><g class=\"gradients\"/><g class=\"patterns\"/></defs><g class=\"bglayer\"><rect class=\"bg\" x=\"80\" y=\"60\" width=\"455\" height=\"360\" style=\"fill: rgb(229, 236, 246); fill-opacity: 1; stroke-width: 0;\"/></g><g class=\"layer-below\"><g class=\"imagelayer\"/><g class=\"shapelayer\"/></g><g class=\"cartesianlayer\"><g class=\"subplot xy\"><g class=\"layer-subplot\"><g class=\"shapelayer\"/><g class=\"imagelayer\"/></g><g class=\"gridlayer\"><g class=\"x\"><path class=\"xgrid crisp\" transform=\"translate(120.82,0)\" d=\"M0,60v360\" style=\"stroke: rgb(255, 255, 255); stroke-opacity: 1; stroke-width: 1px;\"/><path class=\"xgrid crisp\" transform=\"translate(190.78,0)\" d=\"M0,60v360\" style=\"stroke: rgb(255, 255, 255); stroke-opacity: 1; stroke-width: 1px;\"/><path class=\"xgrid crisp\" transform=\"translate(260.83000000000004,0)\" d=\"M0,60v360\" style=\"stroke: rgb(255, 255, 255); stroke-opacity: 1; stroke-width: 1px;\"/><path class=\"xgrid crisp\" transform=\"translate(330.78999999999996,0)\" d=\"M0,60v360\" style=\"stroke: rgb(255, 255, 255); stroke-opacity: 1; stroke-width: 1px;\"/><path class=\"xgrid crisp\" transform=\"translate(400.84,0)\" d=\"M0,60v360\" style=\"stroke: rgb(255, 255, 255); stroke-opacity: 1; stroke-width: 1px;\"/><path class=\"xgrid crisp\" transform=\"translate(470.79,0)\" d=\"M0,60v360\" style=\"stroke: rgb(255, 255, 255); stroke-opacity: 1; stroke-width: 1px;\"/></g><g class=\"y\"><path class=\"ygrid crisp\" transform=\"translate(0,382.07)\" d=\"M80,0h455\" style=\"stroke: rgb(255, 255, 255); stroke-opacity: 1; stroke-width: 1px;\"/><path class=\"ygrid crisp\" transform=\"translate(0,341.7)\" d=\"M80,0h455\" style=\"stroke: rgb(255, 255, 255); stroke-opacity: 1; stroke-width: 1px;\"/><path class=\"ygrid crisp\" transform=\"translate(0,301.32)\" d=\"M80,0h455\" style=\"stroke: rgb(255, 255, 255); stroke-opacity: 1; stroke-width: 1px;\"/><path class=\"ygrid crisp\" transform=\"translate(0,260.95)\" d=\"M80,0h455\" style=\"stroke: rgb(255, 255, 255); stroke-opacity: 1; stroke-width: 1px;\"/><path class=\"ygrid crisp\" transform=\"translate(0,220.58)\" d=\"M80,0h455\" style=\"stroke: rgb(255, 255, 255); stroke-opacity: 1; stroke-width: 1px;\"/><path class=\"ygrid crisp\" transform=\"translate(0,180.20999999999998)\" d=\"M80,0h455\" style=\"stroke: rgb(255, 255, 255); stroke-opacity: 1; stroke-width: 1px;\"/><path class=\"ygrid crisp\" transform=\"translate(0,139.82999999999998)\" d=\"M80,0h455\" style=\"stroke: rgb(255, 255, 255); stroke-opacity: 1; stroke-width: 1px;\"/><path class=\"ygrid crisp\" transform=\"translate(0,99.46000000000001)\" d=\"M80,0h455\" style=\"stroke: rgb(255, 255, 255); stroke-opacity: 1; stroke-width: 1px;\"/></g></g><g class=\"zerolinelayer\"/><path class=\"xlines-below\"/><path class=\"ylines-below\"/><g class=\"overlines-below\"/><g class=\"xaxislayer-below\"/><g class=\"yaxislayer-below\"/><g class=\"overaxes-below\"/><g class=\"plot\" transform=\"translate(80,60)\" clip-path=\"url(#clip3a5b06xyplot)\"><g class=\"scatterlayer mlayer\"><g class=\"trace scatter tracee50b3a\" style=\"stroke-miterlimit: 2; opacity: 1;\"><g class=\"fills\"/><g class=\"errorbars\"/><g class=\"lines\"><path class=\"js-line\" d=\"M0,322.07L2.87,328.74L5.85,327.54L11.5,342L14.47,336.66L17.35,330.07L20.32,325.85L23.19,326.06L26.16,320.27L32.01,314.88L34.98,316.44L37.85,311.21L40.82,309.74L43.79,313.3L46.48,310.68L49.45,305.18L52.32,303.74L55.29,312.18L58.17,316.87L61.14,310.49L64.11,315.31L66.99,307.5L69.96,303.98L72.83,303.9L75.8,297.98L81.46,292.06L84.43,291.99L87.3,289.02L90.27,290.68L96.12,295.07L99.09,301.19L101.96,308.52L104.93,298.54L107.81,298.88L110.78,297.88L119.5,285.41L122.37,286.29L125.35,293.63L128.22,289.26L131.19,287.84L134.16,285.57L137.04,282.71L140.01,285.1L145.85,283.93L148.82,277.94L151.51,276.56L154.48,272.01L160.32,266.8L163.2,268.63L166.17,261.99L169.14,266.45L172.01,262.57L174.99,256.21L180.83,248.95L183.8,254.22L186.48,247.96L189.46,246.61L192.33,245.74L195.3,242.45L198.18,239.24L201.15,241.95L204.12,235.76L206.99,238.48L212.84,230.62L215.81,231.19L218.78,236.38L221.46,227.33L224.43,230.46L227.31,228.82L230.28,227.04L233.15,230.52L236.12,227.39L239.1,238.59L241.97,242.8L244.94,229.37L247.82,229.19L250.79,232.92L253.76,241.36L256.54,241.34L259.51,231.38L262.38,230.5L265.35,228.27L268.23,227.82L271.2,221.67L274.17,221.82L277.04,222.4L280.01,225.37L282.89,219.42L285.86,215.13L288.83,212.29L291.51,204.41L294.49,205.9L297.36,203.72L303.21,200.14L306.18,196.33L309.15,196.55L312.02,192.66L317.87,182.33L320.84,179.11L323.81,168.04L326.49,176.48L329.46,183.3L332.34,182.45L335.31,176.19L338.18,177.34L341.15,167.65L344.12,161.33L347,158.89L349.97,176.29L352.85,170.21L355.82,196.34L358.79,177.56L361.47,169.56L364.44,165.36L367.32,156.72L370.29,173.46L373.16,155.13L376.13,154.38L379.1,160.33L387.82,140.75L390.79,132.35L393.76,133.1L396.54,154.89L399.51,194.58L402.39,163.66L405.36,149.51L408.24,143.91L414.18,110.45L417.05,120.58L420.02,128.05L422.9,98.91L425.87,89.01L428.84,91.8L434.49,69.99L437.37,53.38L440.34,51.34L443.21,44.04L449.15,25.12L452.03,42.32L455,18\" style=\"vector-effect: non-scaling-stroke; fill: none; stroke: rgb(99, 110, 250); stroke-opacity: 1; stroke-width: 2px; opacity: 1;\"/></g><g class=\"points\"/><g class=\"text\"/></g><g class=\"trace scatter trace54512a\" style=\"stroke-miterlimit: 2; opacity: 1;\"><g class=\"fills\"/><g class=\"errorbars\"/><g class=\"lines\"><path class=\"js-line\" d=\"M0,322.07L2.87,327.64L5.85,325.35L11.5,339.69L14.47,335.09L20.32,321.17L23.19,321.67L26.16,314.5L29.13,311.48L32.01,307.9L34.98,309.79L37.85,306.1L40.82,304.45L43.79,308.68L46.48,307.46L49.45,301.81L52.32,301.97L55.29,311.9L58.17,315.28L61.14,308.02L64.11,311.9L66.99,303.69L69.96,299.75L72.83,302.39L75.8,295.3L78.77,292.75L81.46,288.98L84.43,290.54L87.3,285.82L93.15,290.8L96.12,292.88L101.96,310L104.93,300.63L107.81,303.16L110.78,303.36L116.53,293.7L119.5,292.21L122.37,293.92L125.35,303.76L128.22,298.76L131.19,297.66L137.04,292.59L140.01,293.23L142.88,292.09L145.85,290.06L148.82,284.52L151.51,284.66L154.48,282.19L157.35,278.61L160.32,278.86L163.2,282.01L166.17,275.72L169.14,278.76L174.99,267.96L177.86,265.83L180.83,263.11L183.8,268.25L186.48,261.79L189.46,261.96L192.33,260.69L195.3,258.41L198.18,256.03L201.15,258.56L204.12,255.75L206.99,259.84L209.96,259.19L212.84,256.51L218.78,261.49L221.46,253.72L224.43,256.31L227.31,253.08L230.28,253.1L233.15,256.72L236.12,254.44L239.1,264.27L241.97,269.63L244.94,259.22L247.82,260.17L250.79,262.81L253.76,271.26L256.54,272.5L259.51,264.18L262.38,262.16L265.35,261.95L268.23,263.66L271.2,258.03L274.17,257.98L277.04,257.62L280.01,260.41L282.89,258.71L285.86,255.53L291.51,248.38L294.49,246.78L300.33,241.95L303.21,241.39L306.18,237.64L309.15,237.65L317.87,228.16L320.84,225.83L323.81,216.68L326.49,224.57L329.46,228.76L332.34,227.2L335.31,226.68L338.18,226.94L341.15,221.52L344.12,219.94L347,218.99L349.97,232.65L352.85,230.91L355.82,244.1L358.79,232.15L361.47,227.32L364.44,225.41L367.32,219.35L370.29,230.54L373.16,219.5L376.13,219.08L379.1,222.91L384.95,214.92L387.82,209.88L390.79,204.29L393.76,205.65L396.54,222.32L399.51,246.65L402.39,230.26L405.36,221.99L408.24,217.38L411.21,208.84L414.18,196.25L417.05,203.51L420.02,209.75L422.9,185.52L425.87,176.36L428.84,178.96L434.49,166.26L437.37,155.47L443.21,148.81L446.18,144.28L449.15,138.32L452.03,149.7L455,135.52\" style=\"vector-effect: non-scaling-stroke; fill: none; stroke: rgb(239, 85, 59); stroke-opacity: 1; stroke-width: 2px; opacity: 1;\"/></g><g class=\"points\"/><g class=\"text\"/></g></g></g><g class=\"overplot\"/><path class=\"xlines-above crisp\" d=\"M0,0\" style=\"fill: none;\"/><path class=\"ylines-above crisp\" d=\"M0,0\" style=\"fill: none;\"/><g class=\"overlines-above\"/><g class=\"xaxislayer-above\"><g class=\"xtick\"><text text-anchor=\"middle\" x=\"0\" y=\"433\" transform=\"translate(120.82,0)\" style=\"font-family: 'Open Sans', verdana, arial, sans-serif; font-size: 12px; fill: rgb(42, 63, 95); fill-opacity: 1; white-space: pre; opacity: 1;\">2010</text></g><g class=\"xtick\"><text text-anchor=\"middle\" x=\"0\" y=\"433\" style=\"font-family: 'Open Sans', verdana, arial, sans-serif; font-size: 12px; fill: rgb(42, 63, 95); fill-opacity: 1; white-space: pre; opacity: 1;\" transform=\"translate(190.78,0)\">2012</text></g><g class=\"xtick\"><text text-anchor=\"middle\" x=\"0\" y=\"433\" style=\"font-family: 'Open Sans', verdana, arial, sans-serif; font-size: 12px; fill: rgb(42, 63, 95); fill-opacity: 1; white-space: pre; opacity: 1;\" transform=\"translate(260.83000000000004,0)\">2014</text></g><g class=\"xtick\"><text text-anchor=\"middle\" x=\"0\" y=\"433\" style=\"font-family: 'Open Sans', verdana, arial, sans-serif; font-size: 12px; fill: rgb(42, 63, 95); fill-opacity: 1; white-space: pre; opacity: 1;\" transform=\"translate(330.78999999999996,0)\">2016</text></g><g class=\"xtick\"><text text-anchor=\"middle\" x=\"0\" y=\"433\" style=\"font-family: 'Open Sans', verdana, arial, sans-serif; font-size: 12px; fill: rgb(42, 63, 95); fill-opacity: 1; white-space: pre; opacity: 1;\" transform=\"translate(400.84,0)\">2018</text></g><g class=\"xtick\"><text text-anchor=\"middle\" x=\"0\" y=\"433\" style=\"font-family: 'Open Sans', verdana, arial, sans-serif; font-size: 12px; fill: rgb(42, 63, 95); fill-opacity: 1; white-space: pre; opacity: 1;\" transform=\"translate(470.79,0)\">2020</text></g></g><g class=\"yaxislayer-above\"><g class=\"ytick\"><text text-anchor=\"end\" x=\"79\" y=\"4.199999999999999\" transform=\"translate(0,382.07)\" style=\"font-family: 'Open Sans', verdana, arial, sans-serif; font-size: 12px; fill: rgb(42, 63, 95); fill-opacity: 1; white-space: pre; opacity: 1;\">1</text></g><g class=\"ytick\"><text text-anchor=\"end\" x=\"79\" y=\"4.199999999999999\" style=\"font-family: 'Open Sans', verdana, arial, sans-serif; font-size: 12px; fill: rgb(42, 63, 95); fill-opacity: 1; white-space: pre; opacity: 1;\" transform=\"translate(0,341.7)\">1.5</text></g><g class=\"ytick\"><text text-anchor=\"end\" x=\"79\" y=\"4.199999999999999\" style=\"font-family: 'Open Sans', verdana, arial, sans-serif; font-size: 12px; fill: rgb(42, 63, 95); fill-opacity: 1; white-space: pre; opacity: 1;\" transform=\"translate(0,301.32)\">2</text></g><g class=\"ytick\"><text text-anchor=\"end\" x=\"79\" y=\"4.199999999999999\" style=\"font-family: 'Open Sans', verdana, arial, sans-serif; font-size: 12px; fill: rgb(42, 63, 95); fill-opacity: 1; white-space: pre; opacity: 1;\" transform=\"translate(0,260.95)\">2.5</text></g><g class=\"ytick\"><text text-anchor=\"end\" x=\"79\" y=\"4.199999999999999\" style=\"font-family: 'Open Sans', verdana, arial, sans-serif; font-size: 12px; fill: rgb(42, 63, 95); fill-opacity: 1; white-space: pre; opacity: 1;\" transform=\"translate(0,220.58)\">3</text></g><g class=\"ytick\"><text text-anchor=\"end\" x=\"79\" y=\"4.199999999999999\" style=\"font-family: 'Open Sans', verdana, arial, sans-serif; font-size: 12px; fill: rgb(42, 63, 95); fill-opacity: 1; white-space: pre; opacity: 1;\" transform=\"translate(0,180.20999999999998)\">3.5</text></g><g class=\"ytick\"><text text-anchor=\"end\" x=\"79\" y=\"4.199999999999999\" style=\"font-family: 'Open Sans', verdana, arial, sans-serif; font-size: 12px; fill: rgb(42, 63, 95); fill-opacity: 1; white-space: pre; opacity: 1;\" transform=\"translate(0,139.82999999999998)\">4</text></g><g class=\"ytick\"><text text-anchor=\"end\" x=\"79\" y=\"4.199999999999999\" style=\"font-family: 'Open Sans', verdana, arial, sans-serif; font-size: 12px; fill: rgb(42, 63, 95); fill-opacity: 1; white-space: pre; opacity: 1;\" transform=\"translate(0,99.46000000000001)\">4.5</text></g></g><g class=\"overaxes-above\"/></g></g><g class=\"polarlayer\"/><g class=\"ternarylayer\"/><g class=\"geolayer\"/><g class=\"funnelarealayer\"/><g class=\"pielayer\"/><g class=\"iciclelayer\"/><g class=\"treemaplayer\"/><g class=\"sunburstlayer\"/><g class=\"glimages\"/><defs id=\"topdefs-3a5b06\"><g class=\"clips\"/><clipPath id=\"legend3a5b06\"><rect width=\"144\" height=\"67\" x=\"0\" y=\"0\"/></clipPath></defs><g class=\"layer-above\"><g class=\"imagelayer\"/><g class=\"shapelayer\"/></g><g class=\"infolayer\"><g class=\"legend\" pointer-events=\"all\" transform=\"translate(544.1,60)\"><rect class=\"bg\" shape-rendering=\"crispEdges\" style=\"stroke: rgb(68, 68, 68); stroke-opacity: 1; fill: rgb(255, 255, 255); fill-opacity: 1; stroke-width: 0px;\" width=\"144\" height=\"67\" x=\"0\" y=\"0\"/><g class=\"scrollbox\" transform=\"\" clip-path=\"url(#legend3a5b06)\"><text class=\"legendtitletext\" text-anchor=\"start\" x=\"2\" y=\"18.2\" style=\"font-family: 'Open Sans', verdana, arial, sans-serif; font-size: 14px; fill: rgb(42, 63, 95); fill-opacity: 1; white-space: pre;\">variable</text><g class=\"groups\" transform=\"\"><g class=\"traces\" transform=\"translate(0,32.7)\" style=\"opacity: 1;\"><text class=\"legendtext\" text-anchor=\"start\" x=\"40\" y=\"4.680000000000001\" style=\"font-family: 'Open Sans', verdana, arial, sans-serif; font-size: 12px; fill: rgb(42, 63, 95); fill-opacity: 1; white-space: pre;\">S&amp;P 500 (rate)</text><g class=\"layers\" style=\"opacity: 1;\"><g class=\"legendfill\"/><g class=\"legendlines\"><path class=\"js-line\" d=\"M5,0h30\" style=\"fill: none; stroke: rgb(99, 110, 250); stroke-opacity: 1; stroke-width: 2px;\"/></g><g class=\"legendsymbols\"><g class=\"legendpoints\"/></g></g><rect class=\"legendtoggle\" x=\"0\" y=\"-9.5\" width=\"138.3125\" height=\"19\" style=\"fill: rgb(0, 0, 0); fill-opacity: 0;\"/></g></g><g class=\"groups\" transform=\"\"><g class=\"traces\" transform=\"translate(0,51.7)\" style=\"opacity: 1;\"><text class=\"legendtext\" text-anchor=\"start\" x=\"40\" y=\"4.680000000000001\" style=\"font-family: 'Open Sans', verdana, arial, sans-serif; font-size: 12px; fill: rgb(42, 63, 95); fill-opacity: 1; white-space: pre;\">MSCI World (rate)</text><g class=\"layers\" style=\"opacity: 1;\"><g class=\"legendfill\"/><g class=\"legendlines\"><path class=\"js-line\" d=\"M5,0h30\" style=\"fill: none; stroke: rgb(239, 85, 59); stroke-opacity: 1; stroke-width: 2px;\"/></g><g class=\"legendsymbols\"><g class=\"legendpoints\"/></g></g><rect class=\"legendtoggle\" x=\"0\" y=\"-9.5\" width=\"138.3125\" height=\"19\" style=\"fill: rgb(0, 0, 0); fill-opacity: 0;\"/></g></g></g><rect class=\"scrollbar\" rx=\"20\" ry=\"3\" width=\"0\" height=\"0\" style=\"fill: rgb(128, 139, 164); fill-opacity: 1;\" x=\"0\" y=\"0\"/></g><g class=\"g-gtitle\"/><g class=\"g-xtitle\"><text class=\"xtitle\" x=\"307.5\" y=\"461.8\" text-anchor=\"middle\" style=\"font-family: 'Open Sans', verdana, arial, sans-serif; font-size: 14px; fill: rgb(42, 63, 95); opacity: 1; font-weight: normal; white-space: pre;\">Date</text></g><g class=\"g-ytitle\"><text class=\"ytitle\" transform=\"rotate(-90,37.278125,240)\" x=\"37.278125\" y=\"240\" text-anchor=\"middle\" style=\"font-family: 'Open Sans', verdana, arial, sans-serif; font-size: 14px; fill: rgb(42, 63, 95); opacity: 1; font-weight: normal; white-space: pre;\">value</text></g></g></svg>"
     },
     "metadata": {},
     "output_type": "display_data"
    }
   ],
   "source": [
    "# Load the dataset\n",
    "\n",
    "from_date = \"01/11/2008\"\n",
    "to_date = \"01/11/2021\"\n",
    "\n",
    "df1_nombre = \"S&P 500\"\n",
    "df1 = investpy.get_index_historical_data(index=df1_nombre,\n",
    "                                        country=\"united states\",\n",
    "                                        from_date=from_date,\n",
    "                                        to_date=to_date,\n",
    "                                        interval='Monthly',\n",
    "                                        order=\"asc\"\n",
    "                                   )\n",
    "df2_nombre =  \"MSCI World\"\n",
    "df2 = investpy.get_index_historical_data(index=df2_nombre,\n",
    "                                        country=\"world\",\n",
    "                                        from_date=from_date,\n",
    "                                        to_date=to_date,\n",
    "                                        interval='Monthly',\n",
    "                                        order=\"asc\"\n",
    "                                   )\n",
    "\n",
    "print(df1.head(3))\n",
    "print(df2.head(3))\n",
    "\n",
    "df1_rate = df1['Open'] / df1['Open'][0]\n",
    "df2_rate = df2['Open'] / df2['Open'][0]\n",
    "\n",
    "assert len(df1.index) == len(df2.index)\n",
    "\n",
    "df_plot = pd.DataFrame(index=df1.index)\n",
    "df_plot[df1_nombre+' (rate)'] = df1_rate\n",
    "df_plot[df2_nombre+' (rate)'] = df2_rate\n",
    "fig = px.line(df_plot)\n",
    "fig.show('svg')"
   ]
  },
  {
   "cell_type": "code",
   "execution_count": 3,
   "metadata": {},
   "outputs": [],
   "source": [
    "inversion_mensual = np.ones((len(df1.index)),) * 200\n",
    "inversion_mensual[0] += 5000\n",
    "inversion = inversion_mensual.cumsum()"
   ]
  },
  {
   "cell_type": "code",
   "execution_count": 4,
   "metadata": {},
   "outputs": [
    {
     "data": {
      "image/svg+xml": "<svg class=\"main-svg\" xmlns=\"http://www.w3.org/2000/svg\" xmlns:xlink=\"http://www.w3.org/1999/xlink\" width=\"700\" height=\"500\" style=\"\" viewBox=\"0 0 700 500\"><rect x=\"0\" y=\"0\" width=\"700\" height=\"500\" style=\"fill: rgb(255, 255, 255); fill-opacity: 1;\"/><defs id=\"defs-77ee80\"><g class=\"clips\"><clipPath id=\"clip77ee80xyplot\" class=\"plotclip\"><rect width=\"411\" height=\"360\"/></clipPath><clipPath class=\"axesclip\" id=\"clip77ee80x\"><rect x=\"80\" y=\"0\" width=\"411\" height=\"500\"/></clipPath><clipPath class=\"axesclip\" id=\"clip77ee80y\"><rect x=\"0\" y=\"60\" width=\"700\" height=\"360\"/></clipPath><clipPath class=\"axesclip\" id=\"clip77ee80xy\"><rect x=\"80\" y=\"60\" width=\"411\" height=\"360\"/></clipPath></g><g class=\"gradients\"/><g class=\"patterns\"/></defs><g class=\"bglayer\"><rect class=\"bg\" x=\"80\" y=\"60\" width=\"411\" height=\"360\" style=\"fill: rgb(229, 236, 246); fill-opacity: 1; stroke-width: 0;\"/></g><g class=\"layer-below\"><g class=\"imagelayer\"/><g class=\"shapelayer\"/></g><g class=\"cartesianlayer\"><g class=\"subplot xy\"><g class=\"layer-subplot\"><g class=\"shapelayer\"/><g class=\"imagelayer\"/></g><g class=\"gridlayer\"><g class=\"x\"><path class=\"xgrid crisp\" transform=\"translate(116.88,0)\" d=\"M0,60v360\" style=\"stroke: rgb(255, 255, 255); stroke-opacity: 1; stroke-width: 1px;\"/><path class=\"xgrid crisp\" transform=\"translate(274.94,0)\" d=\"M0,60v360\" style=\"stroke: rgb(255, 255, 255); stroke-opacity: 1; stroke-width: 1px;\"/><path class=\"xgrid crisp\" transform=\"translate(433,0)\" d=\"M0,60v360\" style=\"stroke: rgb(255, 255, 255); stroke-opacity: 1; stroke-width: 1px;\"/></g><g class=\"y\"><path class=\"ygrid crisp\" transform=\"translate(0,353)\" d=\"M80,0h411\" style=\"stroke: rgb(255, 255, 255); stroke-opacity: 1; stroke-width: 1px;\"/><path class=\"ygrid crisp\" transform=\"translate(0,289.28)\" d=\"M80,0h411\" style=\"stroke: rgb(255, 255, 255); stroke-opacity: 1; stroke-width: 1px;\"/><path class=\"ygrid crisp\" transform=\"translate(0,225.56)\" d=\"M80,0h411\" style=\"stroke: rgb(255, 255, 255); stroke-opacity: 1; stroke-width: 1px;\"/><path class=\"ygrid crisp\" transform=\"translate(0,161.85)\" d=\"M80,0h411\" style=\"stroke: rgb(255, 255, 255); stroke-opacity: 1; stroke-width: 1px;\"/><path class=\"ygrid crisp\" transform=\"translate(0,98.13)\" d=\"M80,0h411\" style=\"stroke: rgb(255, 255, 255); stroke-opacity: 1; stroke-width: 1px;\"/></g></g><g class=\"zerolinelayer\"><path class=\"yzl zl crisp\" transform=\"translate(0,416.72)\" d=\"M80,0h411\" style=\"stroke: rgb(255, 255, 255); stroke-opacity: 1; stroke-width: 2px;\"/></g><path class=\"xlines-below\"/><path class=\"ylines-below\"/><g class=\"overlines-below\"/><g class=\"xaxislayer-below\"/><g class=\"yaxislayer-below\"/><g class=\"overaxes-below\"/><g class=\"plot\" transform=\"translate(80,60)\" clip-path=\"url(#clip77ee80xyplot)\"><g class=\"scatterlayer mlayer\"><g class=\"trace scatter trace432039\" style=\"stroke-miterlimit: 2; opacity: 1;\"><g class=\"fills\"/><g class=\"errorbars\"/><g class=\"lines\"><path class=\"js-line\" d=\"M0,340.15L181.7,296.19L184.38,295.55L363.48,252.22L366.16,251.58L411,240.75\" style=\"vector-effect: non-scaling-stroke; fill: none; stroke: rgb(99, 110, 250); stroke-opacity: 1; stroke-width: 2px; opacity: 1;\"/></g><g class=\"points\"/><g class=\"text\"/></g><g class=\"trace scatter trace8a62f2\" style=\"stroke-miterlimit: 2; opacity: 1;\"><g class=\"fills\"/><g class=\"errorbars\"/><g class=\"lines\"><path class=\"js-line\" d=\"M0,340.15L2.6,340.88L5.28,339.99L10.39,342L13.07,340.07L18.35,336.04L20.95,335.46L26.32,331.89L28.91,330.39L31.6,330.22L34.19,327.98L36.88,326.88L39.56,327.38L47.26,322.28L49.95,324.58L52.54,325.6L55.23,322.66L57.91,323.8L60.51,320.22L63.19,318.23L65.79,317.57L68.47,314.59L71.15,312.89L73.58,310.91L76.26,310.25L78.86,308.36L81.54,308.43L86.82,309.06L89.51,311.13L92.1,313.78L94.79,308.6L100.07,307.02L102.75,304.26L107.94,299.13L110.54,298.93L113.22,301.93L115.82,299.1L121.19,295.94L123.78,293.82L126.47,294.43L129.07,293.61L131.75,292.54L134.43,288.66L136.86,287.27L139.54,284.14L144.82,279.96L147.42,280.35L150.1,275.94L152.78,277.86L155.38,274.98L158.06,270.64L163.34,265.08L166.03,267.58L168.45,263.19L171.13,261.74L173.73,260.57L176.41,257.92L179.01,255.31L181.7,256.35L184.38,251.85L186.98,252.92L192.26,246.67L194.94,246.4L197.62,249.09L200.05,242.6L202.73,244.01L205.33,242.29L208.01,240.49L210.61,242.15L213.29,239.43L215.97,246.28L218.57,248.48L221.25,238.75L223.85,237.99L226.53,239.91L229.22,245.07L231.73,244.43L234.41,236.86L237.01,235.61L239.69,233.4L242.29,232.45L244.97,227.44L247.66,226.91L250.25,226.69L252.94,228.2L258.22,219.49L260.9,216.78L263.32,210.35L266.01,210.81L273.88,204.62L276.57,201.12L279.25,200.65L281.85,197.06L289.81,184.83L292.5,175.69L297.6,186.2L300.2,184.9L302.88,179.38L305.48,179.64L308.16,171.4L310.85,165.78L313.44,163.21L316.13,176.38L318.72,170.9L321.41,191.14L324.09,175.44L326.51,168.37L329.2,164.34L331.8,156.7L334.48,169.67L337.08,154.08L339.76,152.84L342.44,157.08L350.32,138.99L353,131.38L355.69,131.36L358.2,148.93L360.88,181.56L363.48,154.91L366.16,142.34L368.76,136.96L374.12,107.24L376.72,115.25L379.4,121.01L382,95.36L384.68,86.22L387.37,87.98L392.48,67.84L395.07,52.79L397.76,50.37L400.35,43.37L405.72,25.56L408.32,40L411,18\" style=\"vector-effect: non-scaling-stroke; fill: none; stroke: rgb(239, 85, 59); stroke-opacity: 1; stroke-width: 2px; opacity: 1;\"/></g><g class=\"points\"/><g class=\"text\"/></g><g class=\"trace scatter traced4313e\" style=\"stroke-miterlimit: 2; opacity: 1;\"><g class=\"fills\"/><g class=\"errorbars\"/><g class=\"lines\"><path class=\"js-line\" d=\"M0,340.15L2.6,340.66L5.28,339.53L10.39,341.51L13.07,339.76L18.35,334.94L20.95,334.44L23.63,331.83L26.32,330.35L28.91,328.67L31.6,328.6L36.88,325.7L39.56,326.39L41.98,325.36L44.67,322.87L47.26,322.29L49.95,325.04L52.54,325.58L55.23,322.36L57.91,323.13L60.51,319.46L63.19,317.34L65.79,317.71L68.47,314.32L71.15,312.68L73.58,310.53L76.26,310.53L78.86,307.95L81.54,308.51L86.82,309.01L89.51,311.85L92.1,315.23L94.79,310.4L97.38,310.91L100.07,310.37L105.26,304.56L107.94,303.21L110.54,303.4L113.22,307.58L115.82,304.46L118.5,303.28L123.78,299.41L126.47,299.1L131.75,296.15L134.43,292.53L136.86,291.98L139.54,289.98L142.14,287.37L144.82,286.87L147.42,288.01L150.1,283.8L152.78,284.9L155.38,280.9L158.06,277.35L160.66,275.46L163.34,273.21L166.03,275.64L168.45,271.11L171.13,270.58L176.41,267.12L179.01,265.01L181.7,265.95L184.38,263.55L186.98,265.51L189.66,264.45L192.26,262.09L194.94,263.02L197.62,264.05L200.05,258.32L202.73,259.39L205.33,256.61L208.01,255.98L210.61,257.78L213.29,255.6L215.97,261.66L218.57,264.7L221.25,256.88L223.85,256.89L226.53,258.11L229.22,263.42L231.73,263.66L234.41,257.08L237.01,255L239.69,254.21L242.29,254.81L244.97,250.06L247.66,249.38L250.25,248.48L252.94,249.92L255.53,248.01L258.22,244.97L263.32,238.26L266.01,236.39L271.29,231.38L273.88,230.31L276.57,226.73L279.25,226.11L289.81,214.15L292.5,206.14L294.92,211.89L297.6,214.66L302.88,211.68L305.48,211.26L308.16,206.14L310.85,204.19L313.44,202.76L316.13,213.56L318.72,211.46L321.41,221.97L324.09,211.18L326.51,206.43L329.2,204.16L331.8,198.31L334.48,207.33L337.08,197.12L339.76,196.12L342.44,198.83L347.72,190.53L350.32,185.43L353,179.84L355.69,180.41L358.2,194.68L360.88,215.88L363.48,200.47L366.16,192.34L368.76,187.51L371.44,179.08L374.12,166.92L376.72,172.95L379.4,178.07L382,155.01L384.68,145.87L387.37,147.65L392.48,134.5L395.07,123.72L400.35,116.17L403.04,111.24L405.72,104.94L408.32,115.14L411,100.97\" style=\"vector-effect: non-scaling-stroke; fill: none; stroke: rgb(0, 204, 150); stroke-opacity: 1; stroke-width: 2px; opacity: 1;\"/></g><g class=\"points\"/><g class=\"text\"/></g></g></g><g class=\"overplot\"/><path class=\"xlines-above crisp\" d=\"M0,0\" style=\"fill: none;\"/><path class=\"ylines-above crisp\" d=\"M0,0\" style=\"fill: none;\"/><g class=\"overlines-above\"/><g class=\"xaxislayer-above\"><g class=\"xtick\"><text text-anchor=\"middle\" x=\"0\" y=\"433\" transform=\"translate(116.88,0)\" style=\"font-family: 'Open Sans', verdana, arial, sans-serif; font-size: 12px; fill: rgb(42, 63, 95); fill-opacity: 1; white-space: pre; opacity: 1;\">2010</text></g><g class=\"xtick\"><text text-anchor=\"middle\" x=\"0\" y=\"433\" style=\"font-family: 'Open Sans', verdana, arial, sans-serif; font-size: 12px; fill: rgb(42, 63, 95); fill-opacity: 1; white-space: pre; opacity: 1;\" transform=\"translate(274.94,0)\">2015</text></g><g class=\"xtick\"><text text-anchor=\"middle\" x=\"0\" y=\"433\" style=\"font-family: 'Open Sans', verdana, arial, sans-serif; font-size: 12px; fill: rgb(42, 63, 95); fill-opacity: 1; white-space: pre; opacity: 1;\" transform=\"translate(433,0)\">2020</text></g></g><g class=\"yaxislayer-above\"><g class=\"ytick\"><text text-anchor=\"end\" x=\"79\" y=\"4.199999999999999\" transform=\"translate(0,416.72)\" style=\"font-family: 'Open Sans', verdana, arial, sans-serif; font-size: 12px; fill: rgb(42, 63, 95); fill-opacity: 1; white-space: pre; opacity: 1;\">0</text></g><g class=\"ytick\"><text text-anchor=\"end\" x=\"79\" y=\"4.199999999999999\" style=\"font-family: 'Open Sans', verdana, arial, sans-serif; font-size: 12px; fill: rgb(42, 63, 95); fill-opacity: 1; white-space: pre; opacity: 1;\" transform=\"translate(0,353)\">20k</text></g><g class=\"ytick\"><text text-anchor=\"end\" x=\"79\" y=\"4.199999999999999\" style=\"font-family: 'Open Sans', verdana, arial, sans-serif; font-size: 12px; fill: rgb(42, 63, 95); fill-opacity: 1; white-space: pre; opacity: 1;\" transform=\"translate(0,289.28)\">40k</text></g><g class=\"ytick\"><text text-anchor=\"end\" x=\"79\" y=\"4.199999999999999\" style=\"font-family: 'Open Sans', verdana, arial, sans-serif; font-size: 12px; fill: rgb(42, 63, 95); fill-opacity: 1; white-space: pre; opacity: 1;\" transform=\"translate(0,225.56)\">60k</text></g><g class=\"ytick\"><text text-anchor=\"end\" x=\"79\" y=\"4.199999999999999\" style=\"font-family: 'Open Sans', verdana, arial, sans-serif; font-size: 12px; fill: rgb(42, 63, 95); fill-opacity: 1; white-space: pre; opacity: 1;\" transform=\"translate(0,161.85)\">80k</text></g><g class=\"ytick\"><text text-anchor=\"end\" x=\"79\" y=\"4.199999999999999\" style=\"font-family: 'Open Sans', verdana, arial, sans-serif; font-size: 12px; fill: rgb(42, 63, 95); fill-opacity: 1; white-space: pre; opacity: 1;\" transform=\"translate(0,98.13)\">100k</text></g></g><g class=\"overaxes-above\"/></g></g><g class=\"polarlayer\"/><g class=\"ternarylayer\"/><g class=\"geolayer\"/><g class=\"funnelarealayer\"/><g class=\"pielayer\"/><g class=\"iciclelayer\"/><g class=\"treemaplayer\"/><g class=\"sunburstlayer\"/><g class=\"glimages\"/><defs id=\"topdefs-77ee80\"><g class=\"clips\"/><clipPath id=\"legend77ee80\"><rect width=\"189\" height=\"86\" x=\"0\" y=\"0\"/></clipPath></defs><g class=\"layer-above\"><g class=\"imagelayer\"/><g class=\"shapelayer\"/></g><g class=\"infolayer\"><g class=\"legend\" pointer-events=\"all\" transform=\"translate(499.22,60)\"><rect class=\"bg\" shape-rendering=\"crispEdges\" style=\"stroke: rgb(68, 68, 68); stroke-opacity: 1; fill: rgb(255, 255, 255); fill-opacity: 1; stroke-width: 0px;\" width=\"189\" height=\"86\" x=\"0\" y=\"0\"/><g class=\"scrollbox\" transform=\"\" clip-path=\"url(#legend77ee80)\"><text class=\"legendtitletext\" text-anchor=\"start\" x=\"2\" y=\"18.2\" style=\"font-family: 'Open Sans', verdana, arial, sans-serif; font-size: 14px; fill: rgb(42, 63, 95); fill-opacity: 1; white-space: pre;\">variable</text><g class=\"groups\" transform=\"\"><g class=\"traces\" transform=\"translate(0,32.7)\" style=\"opacity: 1;\"><text class=\"legendtext\" text-anchor=\"start\" x=\"40\" y=\"4.680000000000001\" style=\"font-family: 'Open Sans', verdana, arial, sans-serif; font-size: 12px; fill: rgb(42, 63, 95); fill-opacity: 1; white-space: pre;\">inversion</text><g class=\"layers\" style=\"opacity: 1;\"><g class=\"legendfill\"/><g class=\"legendlines\"><path class=\"js-line\" d=\"M5,0h30\" style=\"fill: none; stroke: rgb(99, 110, 250); stroke-opacity: 1; stroke-width: 2px;\"/></g><g class=\"legendsymbols\"><g class=\"legendpoints\"/></g></g><rect class=\"legendtoggle\" x=\"0\" y=\"-9.5\" width=\"183.515625\" height=\"19\" style=\"fill: rgb(0, 0, 0); fill-opacity: 0;\"/></g></g><g class=\"groups\" transform=\"\"><g class=\"traces\" transform=\"translate(0,51.7)\" style=\"opacity: 1;\"><text class=\"legendtext\" text-anchor=\"start\" x=\"40\" y=\"4.680000000000001\" style=\"font-family: 'Open Sans', verdana, arial, sans-serif; font-size: 12px; fill: rgb(42, 63, 95); fill-opacity: 1; white-space: pre;\">S&amp;P 500 (rentabilidad)</text><g class=\"layers\" style=\"opacity: 1;\"><g class=\"legendfill\"/><g class=\"legendlines\"><path class=\"js-line\" d=\"M5,0h30\" style=\"fill: none; stroke: rgb(239, 85, 59); stroke-opacity: 1; stroke-width: 2px;\"/></g><g class=\"legendsymbols\"><g class=\"legendpoints\"/></g></g><rect class=\"legendtoggle\" x=\"0\" y=\"-9.5\" width=\"183.515625\" height=\"19\" style=\"fill: rgb(0, 0, 0); fill-opacity: 0;\"/></g></g><g class=\"groups\" transform=\"\"><g class=\"traces\" transform=\"translate(0,70.7)\" style=\"opacity: 1;\"><text class=\"legendtext\" text-anchor=\"start\" x=\"40\" y=\"4.680000000000001\" style=\"font-family: 'Open Sans', verdana, arial, sans-serif; font-size: 12px; fill: rgb(42, 63, 95); fill-opacity: 1; white-space: pre;\">MSCI World (rentabilidad)</text><g class=\"layers\" style=\"opacity: 1;\"><g class=\"legendfill\"/><g class=\"legendlines\"><path class=\"js-line\" d=\"M5,0h30\" style=\"fill: none; stroke: rgb(0, 204, 150); stroke-opacity: 1; stroke-width: 2px;\"/></g><g class=\"legendsymbols\"><g class=\"legendpoints\"/></g></g><rect class=\"legendtoggle\" x=\"0\" y=\"-9.5\" width=\"183.515625\" height=\"19\" style=\"fill: rgb(0, 0, 0); fill-opacity: 0;\"/></g></g></g><rect class=\"scrollbar\" rx=\"20\" ry=\"3\" width=\"0\" height=\"0\" style=\"fill: rgb(128, 139, 164); fill-opacity: 1;\" x=\"0\" y=\"0\"/></g><g class=\"g-gtitle\"/><g class=\"g-xtitle\"><text class=\"xtitle\" x=\"285.5\" y=\"461.8\" text-anchor=\"middle\" style=\"font-family: 'Open Sans', verdana, arial, sans-serif; font-size: 14px; fill: rgb(42, 63, 95); opacity: 1; font-weight: normal; white-space: pre;\">Date</text></g><g class=\"g-ytitle\"><text class=\"ytitle\" transform=\"rotate(-90,27.309375000000003,240)\" x=\"27.309375000000003\" y=\"240\" text-anchor=\"middle\" style=\"font-family: 'Open Sans', verdana, arial, sans-serif; font-size: 14px; fill: rgb(42, 63, 95); opacity: 1; font-weight: normal; white-space: pre;\">value</text></g></g></svg>"
     },
     "metadata": {},
     "output_type": "display_data"
    }
   ],
   "source": [
    "df1_participaciones = inversion_mensual / df1['Open']\n",
    "df1_rentabilidad = df1_participaciones.cumsum() * df1['Open']\n",
    "\n",
    "df2_participaciones = inversion_mensual / df2['Open']\n",
    "df2_rentabilidad = df2_participaciones.cumsum() * df2['Open']\n",
    "\n",
    "\n",
    "df_plot = pd.DataFrame(index=df1.index)\n",
    "df_plot['inversion'] = inversion\n",
    "df_plot[df1_nombre+' (rentabilidad)'] = df1_rentabilidad\n",
    "df_plot[df2_nombre+' (rentabilidad)'] = df2_rentabilidad\n",
    "fig = px.line(df_plot)\n",
    "fig.show('svg')"
   ]
  },
  {
   "cell_type": "code",
   "execution_count": 5,
   "metadata": {},
   "outputs": [
    {
     "name": "stdout",
     "output_type": "stream",
     "text": [
      "[*] Años de inversion: 13.083333333333334\n",
      "\n",
      "=========[ S&P 500 ]=========\n",
      "1.920837046407219 (0.14681557042602947 anual)\n",
      "\n",
      "=========[ MSCI World ]=========\n",
      "1.2053513009445762 (0.0921287618556364 anual)\n",
      "\n"
     ]
    }
   ],
   "source": [
    "# Resultados rentabilidad\n",
    "anyos_inversion = len(df1.index)/12\n",
    "print(f\"[*] Años de inversion: {anyos_inversion}\")\n",
    "print()\n",
    "df1_final = df1_rentabilidad[-1] / inversion[-1] -1\n",
    "print(\"=========[ {0} ]=========\\n{1} ({2} anual)\\n\".format(\n",
    "    df1_nombre,\n",
    "    df1_final,\n",
    "    df1_final / anyos_inversion\n",
    "))\n",
    "df2_final = df2_rentabilidad[-1] / inversion[-1] -1\n",
    "print(\"=========[ {0} ]=========\\n{1} ({2} anual)\\n\".format(\n",
    "    df2_nombre,\n",
    "    df2_final,\n",
    "    df2_final / anyos_inversion\n",
    "))\n"
   ]
  }
 ],
 "metadata": {
  "interpreter": {
   "hash": "68e65e5147fd47c7cad1f442c7a276dc906d36486b01176f97024c541a8249e9"
  },
  "kernelspec": {
   "display_name": "Python 3 (ipykernel)",
   "language": "python",
   "name": "python3"
  },
  "language_info": {
   "codemirror_mode": {
    "name": "ipython",
    "version": 3
   },
   "file_extension": ".py",
   "mimetype": "text/x-python",
   "name": "python",
   "nbconvert_exporter": "python",
   "pygments_lexer": "ipython3",
   "version": "3.8.10"
  }
 },
 "nbformat": 4,
 "nbformat_minor": 2
}
