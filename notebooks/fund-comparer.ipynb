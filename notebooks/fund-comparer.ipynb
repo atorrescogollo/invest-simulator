{
 "cells": [
  {
   "cell_type": "code",
   "execution_count": 1,
   "metadata": {},
   "outputs": [],
   "source": [
    "import pandas as pd\n",
    "import matplotlib.pyplot as plt\n",
    "import numpy as np\n",
    "import investpy\n",
    "import datetime\n",
    "import plotly.express as px\n",
    "from plotly.subplots import make_subplots\n",
    "\n",
    "\n",
    "import pandas as pd\n",
    "import yfinance as yf\n",
    "from yahoofinancials import YahooFinancials\n",
    "\n",
    "# Enable matplot widgets\n",
    "%matplotlib widget"
   ]
  },
  {
   "cell_type": "code",
   "execution_count": null,
   "metadata": {},
   "outputs": [],
   "source": [
    "# Load the dataset\n",
    "\n",
    "from_date = \"01/11/2008\"\n",
    "to_date = \"01/11/2021\"\n",
    "\n",
    "df1_nombre = \"S&P 500\"\n",
    "df1 = investpy.get_index_historical_data(index=df1_nombre,\n",
    "                                        country=\"united states\",\n",
    "                                        from_date=from_date,\n",
    "                                        to_date=to_date,\n",
    "                                        interval='Monthly',\n",
    "                                        order=\"asc\"\n",
    "                                   )\n",
    "df2_nombre =  \"MSCI World\"\n",
    "df2 = investpy.get_index_historical_data(index=df2_nombre,\n",
    "                                        country=\"world\",\n",
    "                                        from_date=from_date,\n",
    "                                        to_date=to_date,\n",
    "                                        interval='Monthly',\n",
    "                                        order=\"asc\"\n",
    "                                   )\n",
    "\n",
    "print(df1.head(3))\n",
    "print(df2.head(3))\n",
    "\n",
    "df1_rate = df1['Open'] / df1['Open'][0]\n",
    "df2_rate = df2['Open'] / df2['Open'][0]\n",
    "\n",
    "assert len(df1.index) == len(df2.index)\n",
    "\n",
    "df_plot = pd.DataFrame(index=df1.index)\n",
    "df_plot[df1_nombre+' (rate)'] = df1_rate\n",
    "df_plot[df2_nombre+' (rate)'] = df2_rate\n",
    "fig = px.line(df_plot)\n",
    "fig.show('svg')"
   ]
  },
  {
   "cell_type": "code",
   "execution_count": null,
   "metadata": {},
   "outputs": [],
   "source": [
    "inversion_mensual = np.ones((len(df1.index)),) * 200\n",
    "inversion_mensual[0] += 5000\n",
    "inversion = inversion_mensual.cumsum()"
   ]
  },
  {
   "cell_type": "code",
   "execution_count": null,
   "metadata": {},
   "outputs": [],
   "source": [
    "df1_participaciones = inversion_mensual / df1['Open']\n",
    "df1_rentabilidad = df1_participaciones.cumsum() * df1['Open']\n",
    "\n",
    "df2_participaciones = inversion_mensual / df2['Open']\n",
    "df2_rentabilidad = df2_participaciones.cumsum() * df2['Open']\n",
    "\n",
    "\n",
    "df_plot = pd.DataFrame(index=df1.index)\n",
    "df_plot['inversion'] = inversion\n",
    "df_plot[df1_nombre+' (rentabilidad)'] = df1_rentabilidad\n",
    "df_plot[df2_nombre+' (rentabilidad)'] = df2_rentabilidad\n",
    "fig = px.line(df_plot)\n",
    "fig.show('svg')"
   ]
  },
  {
   "cell_type": "code",
   "execution_count": null,
   "metadata": {},
   "outputs": [],
   "source": [
    "# Resultados rentabilidad\n",
    "anyos_inversion = len(df1.index)/12\n",
    "print(f\"[*] Años de inversion: {anyos_inversion}\")\n",
    "print()\n",
    "df1_final = df1_rentabilidad[-1] / inversion[-1] -1\n",
    "print(\"=========[ {0} ]=========\\n{1} ({2} anual)\\n\".format(\n",
    "    df1_nombre,\n",
    "    df1_final,\n",
    "    df1_final / anyos_inversion\n",
    "))\n",
    "df2_final = df2_rentabilidad[-1] / inversion[-1] -1\n",
    "print(\"=========[ {0} ]=========\\n{1} ({2} anual)\\n\".format(\n",
    "    df2_nombre,\n",
    "    df2_final,\n",
    "    df2_final / anyos_inversion\n",
    "))\n"
   ]
  }
 ],
 "metadata": {
  "interpreter": {
   "hash": "68e65e5147fd47c7cad1f442c7a276dc906d36486b01176f97024c541a8249e9"
  },
  "kernelspec": {
   "display_name": "Python 3 (ipykernel)",
   "language": "python",
   "name": "python3"
  },
  "language_info": {
   "codemirror_mode": {
    "name": "ipython",
    "version": 3
   },
   "file_extension": ".py",
   "mimetype": "text/x-python",
   "name": "python",
   "nbconvert_exporter": "python",
   "pygments_lexer": "ipython3",
   "version": "3.8.10"
  }
 },
 "nbformat": 4,
 "nbformat_minor": 2
}
